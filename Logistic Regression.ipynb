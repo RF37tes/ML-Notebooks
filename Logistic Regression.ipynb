{
 "cells": [
  {
   "cell_type": "code",
   "execution_count": 1,
   "metadata": {},
   "outputs": [],
   "source": [
    "import numpy as np\n",
    "import pandas as pd\n",
    "import matplotlib.pyplot as plt\n",
    "from sklearn.linear_model import LogisticRegression\n",
    "from sklearn.metrics import classification_report, confusion_matrix"
   ]
  },
  {
   "cell_type": "code",
   "execution_count": 2,
   "metadata": {
    "scrolled": false
   },
   "outputs": [],
   "source": [
    "data = pd.read_csv('~/Downloads/machine-learning-ex2/ex2/ex2data1.txt', header = None)"
   ]
  },
  {
   "cell_type": "code",
   "execution_count": 24,
   "metadata": {},
   "outputs": [
    {
     "data": {
      "text/html": [
       "<div>\n",
       "<style scoped>\n",
       "    .dataframe tbody tr th:only-of-type {\n",
       "        vertical-align: middle;\n",
       "    }\n",
       "\n",
       "    .dataframe tbody tr th {\n",
       "        vertical-align: top;\n",
       "    }\n",
       "\n",
       "    .dataframe thead th {\n",
       "        text-align: right;\n",
       "    }\n",
       "</style>\n",
       "<table border=\"1\" class=\"dataframe\">\n",
       "  <thead>\n",
       "    <tr style=\"text-align: right;\">\n",
       "      <th></th>\n",
       "      <th>0</th>\n",
       "      <th>1</th>\n",
       "      <th>2</th>\n",
       "    </tr>\n",
       "  </thead>\n",
       "  <tbody>\n",
       "    <tr>\n",
       "      <th>0</th>\n",
       "      <td>34.623660</td>\n",
       "      <td>78.024693</td>\n",
       "      <td>0</td>\n",
       "    </tr>\n",
       "    <tr>\n",
       "      <th>1</th>\n",
       "      <td>30.286711</td>\n",
       "      <td>43.894998</td>\n",
       "      <td>0</td>\n",
       "    </tr>\n",
       "    <tr>\n",
       "      <th>2</th>\n",
       "      <td>35.847409</td>\n",
       "      <td>72.902198</td>\n",
       "      <td>0</td>\n",
       "    </tr>\n",
       "    <tr>\n",
       "      <th>3</th>\n",
       "      <td>60.182599</td>\n",
       "      <td>86.308552</td>\n",
       "      <td>1</td>\n",
       "    </tr>\n",
       "    <tr>\n",
       "      <th>4</th>\n",
       "      <td>79.032736</td>\n",
       "      <td>75.344376</td>\n",
       "      <td>1</td>\n",
       "    </tr>\n",
       "  </tbody>\n",
       "</table>\n",
       "</div>"
      ],
      "text/plain": [
       "           0          1  2\n",
       "0  34.623660  78.024693  0\n",
       "1  30.286711  43.894998  0\n",
       "2  35.847409  72.902198  0\n",
       "3  60.182599  86.308552  1\n",
       "4  79.032736  75.344376  1"
      ]
     },
     "execution_count": 24,
     "metadata": {},
     "output_type": "execute_result"
    }
   ],
   "source": [
    "data.head()"
   ]
  },
  {
   "cell_type": "code",
   "execution_count": 3,
   "metadata": {},
   "outputs": [
    {
     "data": {
      "text/html": [
       "<div>\n",
       "<style scoped>\n",
       "    .dataframe tbody tr th:only-of-type {\n",
       "        vertical-align: middle;\n",
       "    }\n",
       "\n",
       "    .dataframe tbody tr th {\n",
       "        vertical-align: top;\n",
       "    }\n",
       "\n",
       "    .dataframe thead th {\n",
       "        text-align: right;\n",
       "    }\n",
       "</style>\n",
       "<table border=\"1\" class=\"dataframe\">\n",
       "  <thead>\n",
       "    <tr style=\"text-align: right;\">\n",
       "      <th></th>\n",
       "      <th>0</th>\n",
       "      <th>1</th>\n",
       "      <th>2</th>\n",
       "    </tr>\n",
       "  </thead>\n",
       "  <tbody>\n",
       "    <tr>\n",
       "      <th>0</th>\n",
       "      <td>34.623660</td>\n",
       "      <td>78.024693</td>\n",
       "      <td>0</td>\n",
       "    </tr>\n",
       "    <tr>\n",
       "      <th>1</th>\n",
       "      <td>30.286711</td>\n",
       "      <td>43.894998</td>\n",
       "      <td>0</td>\n",
       "    </tr>\n",
       "    <tr>\n",
       "      <th>2</th>\n",
       "      <td>35.847409</td>\n",
       "      <td>72.902198</td>\n",
       "      <td>0</td>\n",
       "    </tr>\n",
       "    <tr>\n",
       "      <th>3</th>\n",
       "      <td>60.182599</td>\n",
       "      <td>86.308552</td>\n",
       "      <td>1</td>\n",
       "    </tr>\n",
       "    <tr>\n",
       "      <th>4</th>\n",
       "      <td>79.032736</td>\n",
       "      <td>75.344376</td>\n",
       "      <td>1</td>\n",
       "    </tr>\n",
       "  </tbody>\n",
       "</table>\n",
       "</div>"
      ],
      "text/plain": [
       "           0          1  2\n",
       "0  34.623660  78.024693  0\n",
       "1  30.286711  43.894998  0\n",
       "2  35.847409  72.902198  0\n",
       "3  60.182599  86.308552  1\n",
       "4  79.032736  75.344376  1"
      ]
     },
     "execution_count": 3,
     "metadata": {},
     "output_type": "execute_result"
    }
   ],
   "source": [
    "X = data.iloc[:,:-1]\n",
    "y= data.iloc[:,2]\n",
    "data.head()"
   ]
  },
  {
   "cell_type": "code",
   "execution_count": 4,
   "metadata": {},
   "outputs": [],
   "source": [
    "model = LogisticRegression(solver = 'liblinear', random_state = 0)"
   ]
  },
  {
   "cell_type": "code",
   "execution_count": 5,
   "metadata": {},
   "outputs": [
    {
     "data": {
      "text/plain": [
       "LogisticRegression(C=1.0, class_weight=None, dual=False, fit_intercept=True,\n",
       "                   intercept_scaling=1, l1_ratio=None, max_iter=100,\n",
       "                   multi_class='auto', n_jobs=None, penalty='l2',\n",
       "                   random_state=0, solver='liblinear', tol=0.0001, verbose=0,\n",
       "                   warm_start=False)"
      ]
     },
     "execution_count": 5,
     "metadata": {},
     "output_type": "execute_result"
    }
   ],
   "source": [
    "model.fit(X,y)"
   ]
  },
  {
   "cell_type": "code",
   "execution_count": 6,
   "metadata": {},
   "outputs": [],
   "source": [
    "model = LogisticRegression(solver='liblinear', random_state = 0).fit(X,y)"
   ]
  },
  {
   "cell_type": "code",
   "execution_count": 7,
   "metadata": {},
   "outputs": [
    {
     "data": {
      "text/plain": [
       "array([0, 1])"
      ]
     },
     "execution_count": 7,
     "metadata": {},
     "output_type": "execute_result"
    }
   ],
   "source": [
    "model.classes_"
   ]
  },
  {
   "cell_type": "code",
   "execution_count": 8,
   "metadata": {},
   "outputs": [
    {
     "data": {
      "text/plain": [
       "array([-3.89977794])"
      ]
     },
     "execution_count": 8,
     "metadata": {},
     "output_type": "execute_result"
    }
   ],
   "source": [
    "model.intercept_"
   ]
  },
  {
   "cell_type": "code",
   "execution_count": 9,
   "metadata": {},
   "outputs": [
    {
     "data": {
      "text/plain": [
       "array([[0.03844482, 0.03101855]])"
      ]
     },
     "execution_count": 9,
     "metadata": {},
     "output_type": "execute_result"
    }
   ],
   "source": [
    "model.coef_"
   ]
  },
  {
   "cell_type": "code",
   "execution_count": 10,
   "metadata": {},
   "outputs": [
    {
     "data": {
      "text/plain": [
       "array([[0.53704829, 0.46295171],\n",
       "       [0.79800178, 0.20199822],\n",
       "       [0.56471269, 0.43528731],\n",
       "       [0.25141181, 0.74858819],\n",
       "       [0.1860787 , 0.8139213 ],\n",
       "       [0.60341331, 0.39658669],\n",
       "       [0.19106567, 0.80893433],\n",
       "       [0.39446729, 0.60553271],\n",
       "       [0.14963269, 0.85036731],\n",
       "       [0.33257341, 0.66742659],\n",
       "       [0.27462258, 0.72537742],\n",
       "       [0.51664958, 0.48335042],\n",
       "       [0.16289267, 0.83710733],\n",
       "       [0.14209195, 0.85790805],\n",
       "       [0.50529543, 0.49470457],\n",
       "       [0.28045386, 0.71954614],\n",
       "       [0.40334575, 0.59665425],\n",
       "       [0.46000367, 0.53999633],\n",
       "       [0.15456254, 0.84543746],\n",
       "       [0.36925961, 0.63074039],\n",
       "       [0.49522183, 0.50477817],\n",
       "       [0.1695486 , 0.8304514 ],\n",
       "       [0.60862619, 0.39137381],\n",
       "       [0.77086224, 0.22913776],\n",
       "       [0.22523392, 0.77476608],\n",
       "       [0.33981803, 0.66018197],\n",
       "       [0.36044794, 0.63955206],\n",
       "       [0.29244724, 0.70755276],\n",
       "       [0.49096491, 0.50903509],\n",
       "       [0.59690685, 0.40309315],\n",
       "       [0.32776033, 0.67223967],\n",
       "       [0.23989548, 0.76010452],\n",
       "       [0.48459718, 0.51540282],\n",
       "       [0.43664133, 0.56335867],\n",
       "       [0.53627564, 0.46372436],\n",
       "       [0.54481506, 0.45518494],\n",
       "       [0.3844072 , 0.6155928 ],\n",
       "       [0.25404669, 0.74595331],\n",
       "       [0.43412813, 0.56587187],\n",
       "       [0.56262676, 0.43737324],\n",
       "       [0.25494166, 0.74505834],\n",
       "       [0.61410992, 0.38589008],\n",
       "       [0.14617366, 0.85382634],\n",
       "       [0.37126523, 0.62873477],\n",
       "       [0.62618925, 0.37381075],\n",
       "       [0.47322125, 0.52677875],\n",
       "       [0.22211129, 0.77788871],\n",
       "       [0.07247998, 0.92752002],\n",
       "       [0.18418638, 0.81581362],\n",
       "       [0.08536018, 0.91463982],\n",
       "       [0.18631752, 0.81368248],\n",
       "       [0.14077871, 0.85922129],\n",
       "       [0.28349573, 0.71650427],\n",
       "       [0.66798436, 0.33201564],\n",
       "       [0.60388005, 0.39611995],\n",
       "       [0.53450522, 0.46549478],\n",
       "       [0.12023821, 0.87976179],\n",
       "       [0.42116948, 0.57883052],\n",
       "       [0.24590818, 0.75409182],\n",
       "       [0.21518681, 0.78481319],\n",
       "       [0.15990422, 0.84009578],\n",
       "       [0.74738274, 0.25261726],\n",
       "       [0.62697858, 0.37302142],\n",
       "       [0.7695674 , 0.2304326 ],\n",
       "       [0.5302953 , 0.4697047 ],\n",
       "       [0.51655383, 0.48344617],\n",
       "       [0.33603709, 0.66396291],\n",
       "       [0.59961244, 0.40038756],\n",
       "       [0.11467409, 0.88532591],\n",
       "       [0.36397523, 0.63602477],\n",
       "       [0.78557049, 0.21442951],\n",
       "       [0.27236997, 0.72763003],\n",
       "       [0.1339577 , 0.8660423 ],\n",
       "       [0.33362947, 0.66637053],\n",
       "       [0.32841324, 0.67158676],\n",
       "       [0.10129893, 0.89870107],\n",
       "       [0.34036214, 0.65963786],\n",
       "       [0.40333501, 0.59666499],\n",
       "       [0.56390513, 0.43609487],\n",
       "       [0.35743387, 0.64256613],\n",
       "       [0.15660451, 0.84339549],\n",
       "       [0.23803405, 0.76196595],\n",
       "       [0.31999313, 0.68000687],\n",
       "       [0.46336576, 0.53663424],\n",
       "       [0.11801548, 0.88198452],\n",
       "       [0.19980834, 0.80019166],\n",
       "       [0.45922681, 0.54077319],\n",
       "       [0.14102701, 0.85897299],\n",
       "       [0.10705244, 0.89294756],\n",
       "       [0.50057173, 0.49942827],\n",
       "       [0.10802991, 0.89197009],\n",
       "       [0.09179641, 0.90820359],\n",
       "       [0.66002935, 0.33997065],\n",
       "       [0.16856207, 0.83143793],\n",
       "       [0.27662289, 0.72337711],\n",
       "       [0.30775549, 0.69224451],\n",
       "       [0.39489069, 0.60510931],\n",
       "       [0.11388249, 0.88611751],\n",
       "       [0.43982973, 0.56017027],\n",
       "       [0.14778856, 0.85221144]])"
      ]
     },
     "execution_count": 10,
     "metadata": {},
     "output_type": "execute_result"
    }
   ],
   "source": [
    "model.predict_proba(X)"
   ]
  },
  {
   "cell_type": "code",
   "execution_count": 11,
   "metadata": {},
   "outputs": [
    {
     "data": {
      "text/plain": [
       "array([0, 0, 0, 1, 1, 0, 1, 1, 1, 1, 1, 0, 1, 1, 0, 1, 1, 1, 1, 1, 1, 1,\n",
       "       0, 0, 1, 1, 1, 1, 1, 0, 1, 1, 1, 1, 0, 0, 1, 1, 1, 0, 1, 0, 1, 1,\n",
       "       0, 1, 1, 1, 1, 1, 1, 1, 1, 0, 0, 0, 1, 1, 1, 1, 1, 0, 0, 0, 0, 0,\n",
       "       1, 0, 1, 1, 0, 1, 1, 1, 1, 1, 1, 1, 0, 1, 1, 1, 1, 1, 1, 1, 1, 1,\n",
       "       1, 0, 1, 1, 0, 1, 1, 1, 1, 1, 1, 1])"
      ]
     },
     "execution_count": 11,
     "metadata": {},
     "output_type": "execute_result"
    }
   ],
   "source": [
    "model.predict(X)"
   ]
  },
  {
   "cell_type": "code",
   "execution_count": 12,
   "metadata": {},
   "outputs": [
    {
     "data": {
      "text/plain": [
       "0.87"
      ]
     },
     "execution_count": 12,
     "metadata": {},
     "output_type": "execute_result"
    }
   ],
   "source": [
    "model.score(X,y)"
   ]
  },
  {
   "cell_type": "code",
   "execution_count": 13,
   "metadata": {},
   "outputs": [
    {
     "data": {
      "text/plain": [
       "array([[27, 13],\n",
       "       [ 0, 60]])"
      ]
     },
     "execution_count": 13,
     "metadata": {},
     "output_type": "execute_result"
    }
   ],
   "source": [
    "confusion_matrix(y, model.predict(X))"
   ]
  },
  {
   "cell_type": "code",
   "execution_count": 14,
   "metadata": {},
   "outputs": [
    {
     "data": {
      "image/png": "[encoded data removed]",
      "text/plain": [
       "<Figure size 576x576 with 1 Axes>"
      ]
     },
     "metadata": {
      "needs_background": "light"
     },
     "output_type": "display_data"
    }
   ],
   "source": [
    "cm = confusion_matrix(y, model.predict(X))\n",
    "\n",
    "fig, ax = plt.subplots(figsize= (8,8))\n",
    "ax.imshow(cm)\n",
    "ax.grid(False)\n",
    "ax.xaxis.set(ticks=(0,1), ticklabels=('Predicted 0s', 'Predicted 1s'))\n",
    "ax.yaxis.set(ticks=(0,1), ticklabels=('Actual 0s', 'Actual 1s'))\n",
    "ax.set_ylim(1.5, -0.5)\n",
    "for i in range(2):\n",
    "    for j in range(2):\n",
    "        ax.text(j, i, cm[i, j], ha='center', va='center', color='red')"
   ]
  },
  {
   "cell_type": "code",
   "execution_count": 15,
   "metadata": {},
   "outputs": [
    {
     "name": "stdout",
     "output_type": "stream",
     "text": [
      "              precision    recall  f1-score   support\n",
      "\n",
      "           0       1.00      0.68      0.81        40\n",
      "           1       0.82      1.00      0.90        60\n",
      "\n",
      "    accuracy                           0.87       100\n",
      "   macro avg       0.91      0.84      0.85       100\n",
      "weighted avg       0.89      0.87      0.86       100\n",
      "\n"
     ]
    }
   ],
   "source": [
    "print(classification_report(y, model.predict(X)))"
   ]
  },
  {
   "cell_type": "markdown",
   "metadata": {},
   "source": [
    "# Improve the Model"
   ]
  },
  {
   "cell_type": "code",
   "execution_count": 16,
   "metadata": {},
   "outputs": [
    {
     "data": {
      "text/plain": [
       "LogisticRegression(C=10.0, class_weight=None, dual=False, fit_intercept=True,\n",
       "                   intercept_scaling=1, l1_ratio=None, max_iter=100,\n",
       "                   multi_class='auto', n_jobs=None, penalty='l2',\n",
       "                   random_state=0, solver='liblinear', tol=0.0001, verbose=0,\n",
       "                   warm_start=False)"
      ]
     },
     "execution_count": 16,
     "metadata": {},
     "output_type": "execute_result"
    }
   ],
   "source": [
    "model = LogisticRegression(solver='liblinear', C=10.0, random_state= 0)\n",
    "model.fit(X,y)"
   ]
  },
  {
   "cell_type": "code",
   "execution_count": 17,
   "metadata": {},
   "outputs": [
    {
     "data": {
      "text/plain": [
       "array([-11.12335114])"
      ]
     },
     "execution_count": 17,
     "metadata": {},
     "output_type": "execute_result"
    }
   ],
   "source": [
    "model.intercept_"
   ]
  },
  {
   "cell_type": "code",
   "execution_count": 18,
   "metadata": {},
   "outputs": [
    {
     "data": {
      "text/plain": [
       "array([[0.09432673, 0.08817996]])"
      ]
     },
     "execution_count": 18,
     "metadata": {},
     "output_type": "execute_result"
    }
   ],
   "source": [
    "model.coef_"
   ]
  },
  {
   "cell_type": "code",
   "execution_count": 19,
   "metadata": {},
   "outputs": [
    {
     "data": {
      "text/plain": [
       "array([[0.7265524 , 0.2734476 ],\n",
       "       [0.98782169, 0.01217831],\n",
       "       [0.78809319, 0.21190681],\n",
       "       [0.10301534, 0.89698466],\n",
       "       [0.04854912, 0.95145088],\n",
       "       [0.87043584, 0.12956416],\n",
       "       [0.04105135, 0.95894865],\n",
       "       [0.48534957, 0.51465043],\n",
       "       [0.02267535, 0.97732465],\n",
       "       [0.33632978, 0.66367022],\n",
       "       [0.21591053, 0.78408947],\n",
       "       [0.79396017, 0.20603983],\n",
       "       [0.03278087, 0.96721913],\n",
       "       [0.01735421, 0.98264579],\n",
       "       [0.66572359, 0.33427641],\n",
       "       [0.13777886, 0.86222114],\n",
       "       [0.48938613, 0.51061387],\n",
       "       [0.64520592, 0.35479408],\n",
       "       [0.02328856, 0.97671144],\n",
       "       [0.4174982 , 0.5825018 ],\n",
       "       [0.72926103, 0.27073897],\n",
       "       [0.04157665, 0.95842335],\n",
       "       [0.88579258, 0.11420742],\n",
       "       [0.98197569, 0.01802431],\n",
       "       [0.09038418, 0.90961582],\n",
       "       [0.28515132, 0.71484868],\n",
       "       [0.40297234, 0.59702766],\n",
       "       [0.25326653, 0.74673347],\n",
       "       [0.70256218, 0.29743782],\n",
       "       [0.84985916, 0.15014084],\n",
       "       [0.25226798, 0.74773202],\n",
       "       [0.12309749, 0.87690251],\n",
       "       [0.65511162, 0.34488838],\n",
       "       [0.52285701, 0.47714299],\n",
       "       [0.7412293 , 0.2587707 ],\n",
       "       [0.79666546, 0.20333454],\n",
       "       [0.31129124, 0.68870876],\n",
       "       [0.11257309, 0.88742691],\n",
       "       [0.59935629, 0.40064371],\n",
       "       [0.77979314, 0.22020686],\n",
       "       [0.14727592, 0.85272408],\n",
       "       [0.89371262, 0.10628738],\n",
       "       [0.02746356, 0.97253644],\n",
       "       [0.44326049, 0.55673951],\n",
       "       [0.90615279, 0.09384721],\n",
       "       [0.66001336, 0.33998664],\n",
       "       [0.08540972, 0.91459028],\n",
       "       [0.00318288, 0.99681712],\n",
       "       [0.03679627, 0.96320373],\n",
       "       [0.00479723, 0.99520277],\n",
       "       [0.04939344, 0.95060656],\n",
       "       [0.02609441, 0.97390559],\n",
       "       [0.22377428, 0.77622572],\n",
       "       [0.9269679 , 0.0730321 ],\n",
       "       [0.87955559, 0.12044441],\n",
       "       [0.76351562, 0.23648438],\n",
       "       [0.01537599, 0.98462401],\n",
       "       [0.40626551, 0.59373449],\n",
       "       [0.11533046, 0.88466954],\n",
       "       [0.07129229, 0.92870771],\n",
       "       [0.02790147, 0.97209853],\n",
       "       [0.97463421, 0.02536579],\n",
       "       [0.91333382, 0.08666618],\n",
       "       [0.98044728, 0.01955272],\n",
       "       [0.7408468 , 0.2591532 ],\n",
       "       [0.77230637, 0.22769363],\n",
       "       [0.21525665, 0.78474335],\n",
       "       [0.87207569, 0.12792431],\n",
       "       [0.01023202, 0.98976798],\n",
       "       [0.36566331, 0.63433669],\n",
       "       [0.9854841 , 0.0145159 ],\n",
       "       [0.1420826 , 0.8579174 ],\n",
       "       [0.01497622, 0.98502378],\n",
       "       [0.26406293, 0.73593707],\n",
       "       [0.24673199, 0.75326801],\n",
       "       [0.00924301, 0.99075699],\n",
       "       [0.24292113, 0.75707887],\n",
       "       [0.42040475, 0.57959525],\n",
       "       [0.84189376, 0.15810624],\n",
       "       [0.4013465 , 0.5986535 ],\n",
       "       [0.03170996, 0.96829004],\n",
       "       [0.13570866, 0.86429134],\n",
       "       [0.25002098, 0.74997902],\n",
       "       [0.61686067, 0.38313933],\n",
       "       [0.01122588, 0.98877412],\n",
       "       [0.05301227, 0.94698773],\n",
       "       [0.55032438, 0.44967562],\n",
       "       [0.01852664, 0.98147336],\n",
       "       [0.00803057, 0.99196943],\n",
       "       [0.69569543, 0.30430457],\n",
       "       [0.0103933 , 0.9896067 ],\n",
       "       [0.00591174, 0.99408826],\n",
       "       [0.94009818, 0.05990182],\n",
       "       [0.03276942, 0.96723058],\n",
       "       [0.20567405, 0.79432595],\n",
       "       [0.26540158, 0.73459842],\n",
       "       [0.36728764, 0.63271236],\n",
       "       [0.01326436, 0.98673564],\n",
       "       [0.54428686, 0.45571314],\n",
       "       [0.0213578 , 0.9786422 ]])"
      ]
     },
     "execution_count": 19,
     "metadata": {},
     "output_type": "execute_result"
    }
   ],
   "source": [
    "model.predict_proba(X)"
   ]
  },
  {
   "cell_type": "code",
   "execution_count": 20,
   "metadata": {},
   "outputs": [
    {
     "data": {
      "text/plain": [
       "array([0, 0, 0, 1, 1, 0, 1, 1, 1, 1, 1, 0, 1, 1, 0, 1, 1, 0, 1, 1, 0, 1,\n",
       "       0, 0, 1, 1, 1, 1, 0, 0, 1, 1, 0, 0, 0, 0, 1, 1, 0, 0, 1, 0, 1, 1,\n",
       "       0, 0, 1, 1, 1, 1, 1, 1, 1, 0, 0, 0, 1, 1, 1, 1, 1, 0, 0, 0, 0, 0,\n",
       "       1, 0, 1, 1, 0, 1, 1, 1, 1, 1, 1, 1, 0, 1, 1, 1, 1, 0, 1, 1, 0, 1,\n",
       "       1, 0, 1, 1, 0, 1, 1, 1, 1, 1, 0, 1])"
      ]
     },
     "execution_count": 20,
     "metadata": {},
     "output_type": "execute_result"
    }
   ],
   "source": [
    "model.predict(X)"
   ]
  },
  {
   "cell_type": "code",
   "execution_count": 21,
   "metadata": {},
   "outputs": [
    {
     "data": {
      "text/plain": [
       "0.91"
      ]
     },
     "execution_count": 21,
     "metadata": {},
     "output_type": "execute_result"
    }
   ],
   "source": [
    "model.score(X,y)"
   ]
  },
  {
   "cell_type": "code",
   "execution_count": 22,
   "metadata": {},
   "outputs": [
    {
     "data": {
      "text/plain": [
       "array([[34,  6],\n",
       "       [ 3, 57]])"
      ]
     },
     "execution_count": 22,
     "metadata": {},
     "output_type": "execute_result"
    }
   ],
   "source": [
    "confusion_matrix(y, model.predict(X))"
   ]
  },
  {
   "cell_type": "code",
   "execution_count": 23,
   "metadata": {},
   "outputs": [
    {
     "name": "stdout",
     "output_type": "stream",
     "text": [
      "              precision    recall  f1-score   support\n",
      "\n",
      "           0       0.92      0.85      0.88        40\n",
      "           1       0.90      0.95      0.93        60\n",
      "\n",
      "    accuracy                           0.91       100\n",
      "   macro avg       0.91      0.90      0.90       100\n",
      "weighted avg       0.91      0.91      0.91       100\n",
      "\n"
     ]
    }
   ],
   "source": [
    "print(classification_report(y, model.predict(X)))"
   ]
  },
  {
   "cell_type": "code",
   "execution_count": null,
   "metadata": {},
   "outputs": [],
   "source": []
  }
 ],
 "metadata": {
  "kernelspec": {
   "display_name": "Python 3",
   "language": "python",
   "name": "python3"
  },
  "language_info": {
   "codemirror_mode": {
    "name": "ipython",
    "version": 3
   },
   "file_extension": ".py",
   "mimetype": "text/x-python",
   "name": "python",
   "nbconvert_exporter": "python",
   "pygments_lexer": "ipython3",
   "version": "3.6.9"
  }
 },
 "nbformat": 4,
 "nbformat_minor": 4
}
